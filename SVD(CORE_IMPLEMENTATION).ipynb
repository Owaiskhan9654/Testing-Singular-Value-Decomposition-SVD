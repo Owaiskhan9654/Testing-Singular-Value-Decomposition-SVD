{
  "nbformat": 4,
  "nbformat_minor": 0,
  "metadata": {
    "colab": {
      "name": "SVD(CORE IMPLEMENTATION).ipynb",
      "provenance": [],
      "collapsed_sections": [],
      "authorship_tag": "ABX9TyN56w9Sl+1JQXZd0Xwl1EpW",
      "include_colab_link": true
    },
    "kernelspec": {
      "name": "python3",
      "display_name": "Python 3"
    }
  },
  "cells": [
    {
      "cell_type": "markdown",
      "metadata": {
        "id": "view-in-github",
        "colab_type": "text"
      },
      "source": [
        "<a href=\"https://colab.research.google.com/github/Owaiskhan9654/Testing-Singular-Value-Decomposition-SVD/blob/master/SVD(CORE_IMPLEMENTATION).ipynb\" target=\"_parent\"><img src=\"https://colab.research.google.com/assets/colab-badge.svg\" alt=\"Open In Colab\"/></a>"
      ]
    },
    {
      "cell_type": "code",
      "metadata": {
        "id": "oKBQnCggrH6i",
        "colab_type": "code",
        "colab": {}
      },
      "source": [
        "import numpy as np"
      ],
      "execution_count": 126,
      "outputs": []
    },
    {
      "cell_type": "code",
      "metadata": {
        "id": "bNleMSMWpKBK",
        "colab_type": "code",
        "colab": {}
      },
      "source": [
        "x=[[5,5],[-1,7]]"
      ],
      "execution_count": 127,
      "outputs": []
    },
    {
      "cell_type": "code",
      "metadata": {
        "id": "9EE-RaaxpwM_",
        "colab_type": "code",
        "colab": {}
      },
      "source": [
        "# I have to split the matrix x into U,SIGMA,V.....So By multiplying x transpose  and x I will get \n",
        "y=np.matmul(np.transpose(x),x) #  split like this (xT).(x)=(v).(sigma.T).(u.T).(u).(sigma).(vT)\n",
        "\n",
        "# Here U,V are orthogonal and Orthonormal hence (U.T).U=I   ( where I is a Identity Matrix)"
      ],
      "execution_count": 128,
      "outputs": []
    },
    {
      "cell_type": "code",
      "metadata": {
        "id": "lMsVqQuWp4V_",
        "colab_type": "code",
        "colab": {
          "base_uri": "https://localhost:8080/",
          "height": 51
        },
        "outputId": "afacd440-4d9b-4cb6-c581-8ee40fd8205e"
      },
      "source": [
        "y"
      ],
      "execution_count": 129,
      "outputs": [
        {
          "output_type": "execute_result",
          "data": {
            "text/plain": [
              "array([[26, 18],\n",
              "       [18, 74]])"
            ]
          },
          "metadata": {
            "tags": []
          },
          "execution_count": 129
        }
      ]
    },
    {
      "cell_type": "code",
      "metadata": {
        "id": "h89ycLrTsNuN",
        "colab_type": "code",
        "colab": {}
      },
      "source": [
        "(eig_values1, eig_vectors1) = np.linalg.eig(y)"
      ],
      "execution_count": 130,
      "outputs": []
    },
    {
      "cell_type": "code",
      "metadata": {
        "id": "Mal7mckDqts8",
        "colab_type": "code",
        "colab": {
          "base_uri": "https://localhost:8080/",
          "height": 34
        },
        "outputId": "d71163cf-3655-4551-9e83-c88ba1fb098f"
      },
      "source": [
        "eig_values1"
      ],
      "execution_count": 55,
      "outputs": [
        {
          "output_type": "execute_result",
          "data": {
            "text/plain": [
              "array([20., 80.])"
            ]
          },
          "metadata": {
            "tags": []
          },
          "execution_count": 55
        }
      ]
    },
    {
      "cell_type": "code",
      "metadata": {
        "id": "IT5Os4iclzo4",
        "colab_type": "code",
        "colab": {}
      },
      "source": [
        "eig_values1[::-1].sort()"
      ],
      "execution_count": 56,
      "outputs": []
    },
    {
      "cell_type": "code",
      "metadata": {
        "id": "p2EMQ5v0YScK",
        "colab_type": "code",
        "colab": {
          "base_uri": "https://localhost:8080/",
          "height": 34
        },
        "outputId": "9610befd-c262-4f01-eb53-368b759fc5c8"
      },
      "source": [
        "eig_values1"
      ],
      "execution_count": 77,
      "outputs": [
        {
          "output_type": "execute_result",
          "data": {
            "text/plain": [
              "array([80., 20.])"
            ]
          },
          "metadata": {
            "tags": []
          },
          "execution_count": 77
        }
      ]
    },
    {
      "cell_type": "code",
      "metadata": {
        "id": "KhR8tXcRFDAv",
        "colab_type": "code",
        "colab": {}
      },
      "source": [
        "sigma1=(np.sqrt(eig_values1))"
      ],
      "execution_count": 78,
      "outputs": []
    },
    {
      "cell_type": "code",
      "metadata": {
        "id": "nmep6C0AvfDc",
        "colab_type": "code",
        "colab": {}
      },
      "source": [
        "sigma1=np.diag(sigma1) #Diagonalization because multiplication will not be possible"
      ],
      "execution_count": 80,
      "outputs": []
    },
    {
      "cell_type": "code",
      "metadata": {
        "id": "6OdZ7EUfdwQJ",
        "colab_type": "code",
        "colab": {
          "base_uri": "https://localhost:8080/",
          "height": 51
        },
        "outputId": "2bcf25bd-473c-44d4-857f-110fdb6291e4"
      },
      "source": [
        "sigma1"
      ],
      "execution_count": 81,
      "outputs": [
        {
          "output_type": "execute_result",
          "data": {
            "text/plain": [
              "array([[8.94427191, 0.        ],\n",
              "       [0.        , 4.47213595]])"
            ]
          },
          "metadata": {
            "tags": []
          },
          "execution_count": 81
        }
      ]
    },
    {
      "cell_type": "code",
      "metadata": {
        "id": "mGkO0Qofu8mU",
        "colab_type": "code",
        "colab": {}
      },
      "source": [
        "v1=eig_vectors.T"
      ],
      "execution_count": 82,
      "outputs": []
    },
    {
      "cell_type": "code",
      "metadata": {
        "id": "dRTMX53LY8Zi",
        "colab_type": "code",
        "colab": {
          "base_uri": "https://localhost:8080/",
          "height": 51
        },
        "outputId": "2adf3dcf-f4dc-4336-b257-74a02be4e0f0"
      },
      "source": [
        "v1"
      ],
      "execution_count": 62,
      "outputs": [
        {
          "output_type": "execute_result",
          "data": {
            "text/plain": [
              "array([[ 0.70710678,  0.70710678],\n",
              "       [-0.70710678,  0.70710678]])"
            ]
          },
          "metadata": {
            "tags": []
          },
          "execution_count": 62
        }
      ]
    },
    {
      "cell_type": "code",
      "metadata": {
        "id": "fM7Yp1UBaUMr",
        "colab_type": "code",
        "colab": {}
      },
      "source": [
        "# Now for calculating U applying same procedure as used for calculating V,   i.e  X.(X.T)\n",
        "z=np.matmul(x,np.transpose(x))"
      ],
      "execution_count": 83,
      "outputs": []
    },
    {
      "cell_type": "code",
      "metadata": {
        "id": "zNWgJ3oAbLtW",
        "colab_type": "code",
        "colab": {
          "base_uri": "https://localhost:8080/",
          "height": 51
        },
        "outputId": "a49968f0-79e4-4809-8d27-e892c5432d0f"
      },
      "source": [
        "z"
      ],
      "execution_count": 84,
      "outputs": [
        {
          "output_type": "execute_result",
          "data": {
            "text/plain": [
              "array([[50, 30],\n",
              "       [30, 50]])"
            ]
          },
          "metadata": {
            "tags": []
          },
          "execution_count": 84
        }
      ]
    },
    {
      "cell_type": "code",
      "metadata": {
        "id": "K4302eLxbNf3",
        "colab_type": "code",
        "colab": {}
      },
      "source": [
        "(eig_values2, eig_vectors2) = np.linalg.eig(z)"
      ],
      "execution_count": 85,
      "outputs": []
    },
    {
      "cell_type": "code",
      "metadata": {
        "id": "hFKC2OXNbxU6",
        "colab_type": "code",
        "colab": {
          "base_uri": "https://localhost:8080/",
          "height": 34
        },
        "outputId": "07e67ef2-5e84-4810-ff18-5cd8452c69e2"
      },
      "source": [
        "eig_values2"
      ],
      "execution_count": 86,
      "outputs": [
        {
          "output_type": "execute_result",
          "data": {
            "text/plain": [
              "array([80., 20.])"
            ]
          },
          "metadata": {
            "tags": []
          },
          "execution_count": 86
        }
      ]
    },
    {
      "cell_type": "code",
      "metadata": {
        "id": "-xFvWTt2dBDT",
        "colab_type": "code",
        "colab": {}
      },
      "source": [
        "sigma2=(np.sqrt(eig_values2))"
      ],
      "execution_count": 75,
      "outputs": []
    },
    {
      "cell_type": "code",
      "metadata": {
        "id": "LIUaqAEGdXC3",
        "colab_type": "code",
        "colab": {
          "base_uri": "https://localhost:8080/",
          "height": 34
        },
        "outputId": "6af3665f-4197-4dc5-de34-c00550814589"
      },
      "source": [
        "sigma2"
      ],
      "execution_count": 76,
      "outputs": [
        {
          "output_type": "execute_result",
          "data": {
            "text/plain": [
              "array([8.94427191, 4.47213595])"
            ]
          },
          "metadata": {
            "tags": []
          },
          "execution_count": 76
        }
      ]
    },
    {
      "cell_type": "code",
      "metadata": {
        "id": "Y8mD1S14cCzt",
        "colab_type": "code",
        "colab": {
          "base_uri": "https://localhost:8080/",
          "height": 51
        },
        "outputId": "cb507cb2-0cad-4397-9377-86f4afc54bfd"
      },
      "source": [
        "eig_vectors2"
      ],
      "execution_count": 66,
      "outputs": [
        {
          "output_type": "execute_result",
          "data": {
            "text/plain": [
              "array([[ 0.70710678, -0.70710678],\n",
              "       [ 0.70710678,  0.70710678]])"
            ]
          },
          "metadata": {
            "tags": []
          },
          "execution_count": 66
        }
      ]
    },
    {
      "cell_type": "code",
      "metadata": {
        "id": "TEn_feQ8ccuq",
        "colab_type": "code",
        "colab": {}
      },
      "source": [
        "u=eig_vectors2"
      ],
      "execution_count": 67,
      "outputs": []
    },
    {
      "cell_type": "code",
      "metadata": {
        "id": "7h6V7eTpcjWf",
        "colab_type": "code",
        "colab": {
          "base_uri": "https://localhost:8080/",
          "height": 51
        },
        "outputId": "c8167f3d-55d8-428f-c1d9-5eb9e461409b"
      },
      "source": [
        "u"
      ],
      "execution_count": 68,
      "outputs": [
        {
          "output_type": "execute_result",
          "data": {
            "text/plain": [
              "array([[ 0.70710678, -0.70710678],\n",
              "       [ 0.70710678,  0.70710678]])"
            ]
          },
          "metadata": {
            "tags": []
          },
          "execution_count": 68
        }
      ]
    },
    {
      "cell_type": "markdown",
      "metadata": {
        "id": "1fVWcq14Ad5x",
        "colab_type": "text"
      },
      "source": [
        "## **From Predefined Method**"
      ]
    },
    {
      "cell_type": "code",
      "metadata": {
        "id": "zzb9sYX80KvL",
        "colab_type": "code",
        "colab": {}
      },
      "source": [
        "u1,sigma3,v1=np.linalg.svd(x)"
      ],
      "execution_count": 113,
      "outputs": []
    },
    {
      "cell_type": "code",
      "metadata": {
        "id": "CWfX7cU7nqGF",
        "colab_type": "code",
        "colab": {}
      },
      "source": [
        "sigma3=np.diag(sigma3)"
      ],
      "execution_count": 114,
      "outputs": []
    },
    {
      "cell_type": "code",
      "metadata": {
        "id": "rKA5aWQb0ktH",
        "colab_type": "code",
        "colab": {
          "base_uri": "https://localhost:8080/",
          "height": 170
        },
        "outputId": "e8d255b4-38a2-46c8-a2dc-75ba68570e3d"
      },
      "source": [
        "print('U Calculated from Predefined Library linalg.SVD \\n')\n",
        "print(u1,'\\n')\n",
        "\n",
        "print('U Calculated from explicit Method \\n')\n",
        "print(u)"
      ],
      "execution_count": 121,
      "outputs": [
        {
          "output_type": "stream",
          "text": [
            "U Calculated from Predefined Library linalg.SVD \n",
            "\n",
            "[[ 0.70710678  0.70710678]\n",
            " [ 0.70710678 -0.70710678]] \n",
            "\n",
            "U Calculated from explicit Method \n",
            "\n",
            "[[ 0.70710678 -0.70710678]\n",
            " [ 0.70710678  0.70710678]]\n"
          ],
          "name": "stdout"
        }
      ]
    },
    {
      "cell_type": "code",
      "metadata": {
        "id": "FxaXmmNi0mF5",
        "colab_type": "code",
        "colab": {
          "base_uri": "https://localhost:8080/",
          "height": 170
        },
        "outputId": "796dccb8-40e1-447d-f0cd-e537264fe7e8"
      },
      "source": [
        "print('Σ Calculated from Predefined Library linalg.SVD \\n')\n",
        "print(sigma3,'\\n')\n",
        "\n",
        "print('Σ Calculated from explicit Method \\n')\n",
        "print(sigma1)"
      ],
      "execution_count": 120,
      "outputs": [
        {
          "output_type": "stream",
          "text": [
            "Σ Calculated from Predefined Library linalg.SVD \n",
            "\n",
            "[[8.94427191 0.        ]\n",
            " [0.         4.47213595]] \n",
            "\n",
            "Σ Calculated from explicit Method \n",
            "\n",
            "[[8.94427191 0.        ]\n",
            " [0.         4.47213595]]\n"
          ],
          "name": "stdout"
        }
      ]
    },
    {
      "cell_type": "code",
      "metadata": {
        "id": "SxR0EG9Q0qLd",
        "colab_type": "code",
        "colab": {
          "base_uri": "https://localhost:8080/",
          "height": 170
        },
        "outputId": "59cc4177-3408-4bcc-e24e-11360f9b728c"
      },
      "source": [
        "print('V Calculated from Predefined Library linalg.SVD \\n')\n",
        "print(v1,'\\n')\n",
        "\n",
        "print('V Calculated from explicit Method \\n')\n",
        "print(v)"
      ],
      "execution_count": 119,
      "outputs": [
        {
          "output_type": "stream",
          "text": [
            "V Calculated from Predefined Library linalg.SVD \n",
            "\n",
            "[[ 0.31622777  0.9486833 ]\n",
            " [ 0.9486833  -0.31622777]] \n",
            "\n",
            "V Calculated from explicit Method \n",
            "\n",
            "[[-0.9486833   0.31622777]\n",
            " [-0.31622777 -0.9486833 ]]\n"
          ],
          "name": "stdout"
        }
      ]
    },
    {
      "cell_type": "code",
      "metadata": {
        "id": "SLwdBG3NorWk",
        "colab_type": "code",
        "colab": {}
      },
      "source": [
        ""
      ],
      "execution_count": null,
      "outputs": []
    }
  ]
}