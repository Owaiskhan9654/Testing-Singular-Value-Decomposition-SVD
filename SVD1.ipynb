{
  "nbformat": 4,
  "nbformat_minor": 0,
  "metadata": {
    "colab": {
      "name": "SVD1.ipynb",
      "provenance": [],
      "collapsed_sections": []
    },
    "kernelspec": {
      "name": "python3",
      "display_name": "Python 3"
    }
  },
  "cells": [
    {
      "cell_type": "code",
      "metadata": {
        "id": "oKBQnCggrH6i",
        "colab_type": "code",
        "colab": {}
      },
      "source": [
        "import numpy as np"
      ],
      "execution_count": null,
      "outputs": []
    },
    {
      "cell_type": "code",
      "metadata": {
        "id": "bNleMSMWpKBK",
        "colab_type": "code",
        "colab": {}
      },
      "source": [
        "x=[[5,5],[-1,7]]"
      ],
      "execution_count": null,
      "outputs": []
    },
    {
      "cell_type": "code",
      "metadata": {
        "id": "9EE-RaaxpwM_",
        "colab_type": "code",
        "colab": {}
      },
      "source": [
        "# I have to split the matrix x into U,SIGMA,V.....So By multiplying x transpose  and x I will get \n",
        "y=np.matmul(np.transpose(x),x) #  split like this (xT).(x)=(v).(sigma.T).(u.T).(u).(sigma).(vT)\n",
        "\n",
        "# Here U,V are orthogonal and Orthonormal hence (U.T).U=I   ( where I is a Identity Matrix)"
      ],
      "execution_count": null,
      "outputs": []
    },
    {
      "cell_type": "code",
      "metadata": {
        "id": "lMsVqQuWp4V_",
        "colab_type": "code",
        "colab": {
          "base_uri": "https://localhost:8080/",
          "height": 51
        },
        "outputId": "9ecd51aa-e940-456f-f22f-87cfbf090134"
      },
      "source": [
        "y"
      ],
      "execution_count": null,
      "outputs": [
        {
          "output_type": "execute_result",
          "data": {
            "text/plain": [
              "array([[26, 18],\n",
              "       [18, 74]])"
            ]
          },
          "metadata": {
            "tags": []
          },
          "execution_count": 9
        }
      ]
    },
    {
      "cell_type": "code",
      "metadata": {
        "id": "h89ycLrTsNuN",
        "colab_type": "code",
        "colab": {}
      },
      "source": [
        "(eig_values, eig_vectors) = np.linalg.eig(y.T)"
      ],
      "execution_count": null,
      "outputs": []
    },
    {
      "cell_type": "code",
      "metadata": {
        "id": "Mal7mckDqts8",
        "colab_type": "code",
        "colab": {
          "base_uri": "https://localhost:8080/",
          "height": 34
        },
        "outputId": "77d8e6cf-e63e-49c5-f5cc-90c40a508b98"
      },
      "source": [
        "eig_values"
      ],
      "execution_count": null,
      "outputs": [
        {
          "output_type": "execute_result",
          "data": {
            "text/plain": [
              "array([20., 80.])"
            ]
          },
          "metadata": {
            "tags": []
          },
          "execution_count": 11
        }
      ]
    },
    {
      "cell_type": "code",
      "metadata": {
        "id": "IT5Os4iclzo4",
        "colab_type": "code",
        "colab": {}
      },
      "source": [
        "eig_values[::-1].sort()"
      ],
      "execution_count": null,
      "outputs": []
    },
    {
      "cell_type": "code",
      "metadata": {
        "id": "KhR8tXcRFDAv",
        "colab_type": "code",
        "colab": {}
      },
      "source": [
        "eig_values=(np.sqrt(eig_values))"
      ],
      "execution_count": null,
      "outputs": []
    },
    {
      "cell_type": "code",
      "metadata": {
        "id": "FcqshxYcFPHy",
        "colab_type": "code",
        "colab": {
          "base_uri": "https://localhost:8080/",
          "height": 34
        },
        "outputId": "c98835e6-9332-495e-a3e8-4e1a19627406"
      },
      "source": [
        "eig_values"
      ],
      "execution_count": null,
      "outputs": [
        {
          "output_type": "execute_result",
          "data": {
            "text/plain": [
              "array([8.94427191, 4.47213595])"
            ]
          },
          "metadata": {
            "tags": []
          },
          "execution_count": 15
        }
      ]
    },
    {
      "cell_type": "code",
      "metadata": {
        "id": "nmep6C0AvfDc",
        "colab_type": "code",
        "colab": {}
      },
      "source": [
        "sigma=np.diag(eig_values) #Diagonalization because multiplication will not be possible"
      ],
      "execution_count": null,
      "outputs": []
    },
    {
      "cell_type": "code",
      "metadata": {
        "id": "mGkO0Qofu8mU",
        "colab_type": "code",
        "colab": {}
      },
      "source": [
        "v=eig_vectors"
      ],
      "execution_count": null,
      "outputs": []
    },
    {
      "cell_type": "code",
      "metadata": {
        "id": "aSmrKMLk93FD",
        "colab_type": "code",
        "colab": {
          "base_uri": "https://localhost:8080/",
          "height": 51
        },
        "outputId": "63a0b8a9-3d4f-467a-bda6-2c46efe02513"
      },
      "source": [
        "sigma"
      ],
      "execution_count": null,
      "outputs": [
        {
          "output_type": "execute_result",
          "data": {
            "text/plain": [
              "array([[0.1118034, 0.       ],\n",
              "       [0.       , 0.2236068]])"
            ]
          },
          "metadata": {
            "tags": []
          },
          "execution_count": 21
        }
      ]
    },
    {
      "cell_type": "code",
      "metadata": {
        "id": "X_DkaT-y99Le",
        "colab_type": "code",
        "colab": {}
      },
      "source": [
        "sigma=np.linalg.inv(sigma)"
      ],
      "execution_count": null,
      "outputs": []
    },
    {
      "cell_type": "code",
      "metadata": {
        "id": "ewjEF_ON-HwU",
        "colab_type": "code",
        "colab": {
          "base_uri": "https://localhost:8080/",
          "height": 51
        },
        "outputId": "709d4090-a74f-4f8e-bbfe-f6bdf5b0cf84"
      },
      "source": [
        "sigma"
      ],
      "execution_count": null,
      "outputs": [
        {
          "output_type": "execute_result",
          "data": {
            "text/plain": [
              "array([[0.1118034, 0.       ],\n",
              "       [0.       , 0.2236068]])"
            ]
          },
          "metadata": {
            "tags": []
          },
          "execution_count": 20
        }
      ]
    },
    {
      "cell_type": "code",
      "metadata": {
        "id": "0RP5XJvuyAjd",
        "colab_type": "code",
        "colab": {}
      },
      "source": [
        "m=np.matmul(x,v)"
      ],
      "execution_count": null,
      "outputs": []
    },
    {
      "cell_type": "code",
      "metadata": {
        "id": "9RHG4DtszVdE",
        "colab_type": "code",
        "colab": {}
      },
      "source": [
        "u=np.matmul(m,sigma)"
      ],
      "execution_count": null,
      "outputs": []
    },
    {
      "cell_type": "code",
      "metadata": {
        "id": "6N3W0Xqf0Hp8",
        "colab_type": "code",
        "colab": {
          "base_uri": "https://localhost:8080/",
          "height": 51
        },
        "outputId": "6ab5b4cd-11ee-45e7-bd0a-3d524e88f1f4"
      },
      "source": [
        "u"
      ],
      "execution_count": null,
      "outputs": [
        {
          "output_type": "execute_result",
          "data": {
            "text/plain": [
              "array([[-0.35355339, -1.41421356],\n",
              "       [ 0.35355339, -1.41421356]])"
            ]
          },
          "metadata": {
            "tags": []
          },
          "execution_count": 24
        }
      ]
    },
    {
      "cell_type": "markdown",
      "metadata": {
        "id": "1fVWcq14Ad5x",
        "colab_type": "text"
      },
      "source": [
        "## **From Predefined Method**"
      ]
    },
    {
      "cell_type": "code",
      "metadata": {
        "id": "zzb9sYX80KvL",
        "colab_type": "code",
        "colab": {}
      },
      "source": [
        "u1,sigma1,v1=np.linalg.svd(x)"
      ],
      "execution_count": null,
      "outputs": []
    },
    {
      "cell_type": "code",
      "metadata": {
        "id": "rKA5aWQb0ktH",
        "colab_type": "code",
        "colab": {
          "base_uri": "https://localhost:8080/",
          "height": 51
        },
        "outputId": "037de37e-8191-40c3-ba68-97a8912adfeb"
      },
      "source": [
        "u1"
      ],
      "execution_count": null,
      "outputs": [
        {
          "output_type": "execute_result",
          "data": {
            "text/plain": [
              "array([[ 0.70710678,  0.70710678],\n",
              "       [ 0.70710678, -0.70710678]])"
            ]
          },
          "metadata": {
            "tags": []
          },
          "execution_count": 26
        }
      ]
    },
    {
      "cell_type": "code",
      "metadata": {
        "id": "FxaXmmNi0mF5",
        "colab_type": "code",
        "colab": {
          "base_uri": "https://localhost:8080/",
          "height": 34
        },
        "outputId": "87e53afc-7831-472e-b34d-83ab54f6d689"
      },
      "source": [
        "sigma1 #see here Eigen values are reverse order.... yahi shayad problem h"
      ],
      "execution_count": null,
      "outputs": [
        {
          "output_type": "execute_result",
          "data": {
            "text/plain": [
              "array([8.94427191, 4.47213595])"
            ]
          },
          "metadata": {
            "tags": []
          },
          "execution_count": 27
        }
      ]
    },
    {
      "cell_type": "code",
      "metadata": {
        "id": "SxR0EG9Q0qLd",
        "colab_type": "code",
        "colab": {
          "base_uri": "https://localhost:8080/",
          "height": 51
        },
        "outputId": "04834e62-7c88-408c-9ad6-fa9d45aefc5e"
      },
      "source": [
        "v1"
      ],
      "execution_count": null,
      "outputs": [
        {
          "output_type": "execute_result",
          "data": {
            "text/plain": [
              "array([[ 0.31622777,  0.9486833 ],\n",
              "       [ 0.9486833 , -0.31622777]])"
            ]
          },
          "metadata": {
            "tags": []
          },
          "execution_count": 28
        }
      ]
    },
    {
      "cell_type": "code",
      "metadata": {
        "id": "7X82gjAlp8DX",
        "colab_type": "code",
        "colab": {
          "base_uri": "https://localhost:8080/",
          "height": 51
        },
        "outputId": "1e41db20-91f9-4b45-9817-e4f7515d8d6e"
      },
      "source": [
        "v"
      ],
      "execution_count": null,
      "outputs": [
        {
          "output_type": "execute_result",
          "data": {
            "text/plain": [
              "array([[-0.9486833 , -0.31622777],\n",
              "       [ 0.31622777, -0.9486833 ]])"
            ]
          },
          "metadata": {
            "tags": []
          },
          "execution_count": 29
        }
      ]
    },
    {
      "cell_type": "code",
      "metadata": {
        "id": "6QZ2xc5VmZNh",
        "colab_type": "code",
        "colab": {}
      },
      "source": [
        "#v and v1 mei dekho,,,,Thoda sa fark h"
      ],
      "execution_count": null,
      "outputs": []
    }
  ]
}